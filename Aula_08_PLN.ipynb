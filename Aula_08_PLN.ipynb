{
  "nbformat": 4,
  "nbformat_minor": 0,
  "metadata": {
    "colab": {
      "provenance": [],
      "collapsed_sections": [
        "xFiys7VDudEN",
        "RKpTt5vu_bdr",
        "l4uhogA9J1kt",
        "iki92OM0JMqy",
        "b1gRgAcZKrkA"
      ],
      "include_colab_link": true
    },
    "kernelspec": {
      "name": "python3",
      "display_name": "Python 3"
    },
    "language_info": {
      "name": "python"
    }
  },
  "cells": [
    {
      "cell_type": "markdown",
      "metadata": {
        "id": "view-in-github",
        "colab_type": "text"
      },
      "source": [
        "<a href=\"https://colab.research.google.com/github/vinisilvanunes/P1PLN/blob/master/Aula_08_PLN.ipynb\" target=\"_parent\"><img src=\"https://colab.research.google.com/assets/colab-badge.svg\" alt=\"Open In Colab\"/></a>"
      ]
    },
    {
      "cell_type": "markdown",
      "source": [
        "# Aula 08 - PLN"
      ],
      "metadata": {
        "id": "xFiys7VDudEN"
      }
    },
    {
      "cell_type": "markdown",
      "source": [
        "## Primeira etapa - Carregamento do arquivo"
      ],
      "metadata": {
        "id": "RKpTt5vu_bdr"
      }
    },
    {
      "cell_type": "code",
      "execution_count": null,
      "metadata": {
        "id": "LnlBnJAW8sdC",
        "colab": {
          "base_uri": "https://localhost:8080/"
        },
        "outputId": "561c771b-09bf-40eb-e24e-f221eceec719"
      },
      "outputs": [
        {
          "output_type": "stream",
          "name": "stderr",
          "text": [
            "[nltk_data] Downloading package machado to /root/nltk_data...\n",
            "[nltk_data]   Package machado is already up-to-date!\n"
          ]
        },
        {
          "output_type": "stream",
          "name": "stdout",
          "text": [
            "Arquivo /root/nltk_data/corpora/machado.zip extraido com sucesso na pasta /root/nltk_data/corpora/.\n"
          ]
        }
      ],
      "source": [
        "# Importação das bibliotecas e módulos nessa ordem\n",
        "import nltk\n",
        "import zipfile\n",
        "import os\n",
        "from nltk.corpus import machado\n",
        "\n",
        "# Download do corpus\n",
        "nltk.download('machado')\n",
        "\n",
        "# Extração dos arquivos do corpus\n",
        "caminho_do_zip = '/root/nltk_data/corpora/machado.zip'\n",
        "pasta_destino = '/root/nltk_data/corpora/'\n",
        "os.makedirs(pasta_destino, exist_ok=True)\n",
        "\n",
        "arquivo_zip = zipfile.ZipFile(caminho_do_zip, 'r')\n",
        "arquivo_zip.extractall(pasta_destino)\n",
        "\n",
        "print(f\"Arquivo {caminho_do_zip} extraido com sucesso na pasta {pasta_destino}.\")\n"
      ]
    },
    {
      "cell_type": "markdown",
      "source": [
        "## Segunda etapa - Limpeza e preparação do arquivo"
      ],
      "metadata": {
        "id": "l4uhogA9J1kt"
      }
    },
    {
      "cell_type": "code",
      "source": [
        "# Função para leitura dos arquivos a serem utilizados\n",
        "def ler(nome_arquivo):\n",
        "  arquivo = open(nome_arquivo,'r', encoding='ISO-8859-1')\n",
        "  conteudo_arq = arquivo.read()\n",
        "  arquivo.close()\n",
        "  return conteudo_arq"
      ],
      "metadata": {
        "id": "6X2UmPwYKBys"
      },
      "execution_count": null,
      "outputs": []
    },
    {
      "cell_type": "code",
      "source": [
        "# Função limpeza de textos em lista\n",
        "def limpar(lista):\n",
        "  lixo = '.,:;?!\"`´^`()[]{}/\\|@#$%¨&*-'\n",
        "  quase_limpo = [x.strip(lixo).lower() for x in lista]\n",
        "  return [x for x in quase_limpo if x.isalpha() or '-' not in x]"
      ],
      "metadata": {
        "id": "i2pyCzBnGnzq"
      },
      "execution_count": null,
      "outputs": []
    },
    {
      "cell_type": "code",
      "source": [
        "# Obtenção dos caminhos dos arquivos para serem analisado\n",
        "obras = []\n",
        "\n",
        "for i in range(1,10):\n",
        "  obras.append('/root/nltk_data/corpora/machado/romance/marm0'+str(i)+'.txt')\n",
        "\n",
        "colecao = []\n",
        "\n",
        "for obra in obras:\n",
        "  print(obra)\n",
        "  texto = ler(obra)\n",
        "  palavras = limpar(texto.lower().split())\n",
        "  colecao.append(palavras)"
      ],
      "metadata": {
        "id": "5CegJpsKM0-T",
        "colab": {
          "base_uri": "https://localhost:8080/"
        },
        "outputId": "0188f904-5d84-4504-d407-5bf5ef562173"
      },
      "execution_count": null,
      "outputs": [
        {
          "output_type": "stream",
          "name": "stdout",
          "text": [
            "/root/nltk_data/corpora/machado/romance/marm01.txt\n",
            "/root/nltk_data/corpora/machado/romance/marm02.txt\n",
            "/root/nltk_data/corpora/machado/romance/marm03.txt\n",
            "/root/nltk_data/corpora/machado/romance/marm04.txt\n",
            "/root/nltk_data/corpora/machado/romance/marm05.txt\n",
            "/root/nltk_data/corpora/machado/romance/marm06.txt\n",
            "/root/nltk_data/corpora/machado/romance/marm07.txt\n",
            "/root/nltk_data/corpora/machado/romance/marm08.txt\n",
            "/root/nltk_data/corpora/machado/romance/marm09.txt\n"
          ]
        }
      ]
    },
    {
      "cell_type": "markdown",
      "source": [
        "## Terceira etapa - Criação dos calculos"
      ],
      "metadata": {
        "id": "iki92OM0JMqy"
      }
    },
    {
      "cell_type": "code",
      "source": [
        "import math\n",
        "def tf(termo,doc):\n",
        "  return colecao[doc].count(termo)\n",
        "\n",
        "def df(termo):\n",
        "  return len([d for d in colecao if termo in d])\n",
        "\n",
        "def idf (termo):\n",
        "  return math.log10(len(colecao)/df(termo))\n",
        "\n",
        "def tf_idf(termo,doc):\n",
        "  return tf(termo,doc) * idf(termo)"
      ],
      "metadata": {
        "id": "2wE0xZb_JV8Y"
      },
      "execution_count": null,
      "outputs": []
    },
    {
      "cell_type": "markdown",
      "source": [
        "## Ultima etapa - Experimentação dos calculos"
      ],
      "metadata": {
        "id": "b1gRgAcZKrkA"
      }
    },
    {
      "cell_type": "code",
      "source": [
        "df('que')"
      ],
      "metadata": {
        "colab": {
          "base_uri": "https://localhost:8080/"
        },
        "id": "Xeg7RfLoK3qg",
        "outputId": "acc0895d-a67b-4dfb-fd92-f4f99bb66ba8"
      },
      "execution_count": null,
      "outputs": [
        {
          "output_type": "execute_result",
          "data": {
            "text/plain": [
              "9"
            ]
          },
          "metadata": {},
          "execution_count": 8
        }
      ]
    },
    {
      "cell_type": "code",
      "source": [
        "df('luva')"
      ],
      "metadata": {
        "colab": {
          "base_uri": "https://localhost:8080/"
        },
        "id": "3vxHCLDBK75A",
        "outputId": "03b1d42f-0235-46b1-daaa-995d253b9cc3"
      },
      "execution_count": null,
      "outputs": [
        {
          "output_type": "execute_result",
          "data": {
            "text/plain": [
              "5"
            ]
          },
          "metadata": {},
          "execution_count": 9
        }
      ]
    },
    {
      "cell_type": "code",
      "source": [
        "tf_idf('luva',2)"
      ],
      "metadata": {
        "colab": {
          "base_uri": "https://localhost:8080/"
        },
        "id": "5wLFcNfFK_vg",
        "outputId": "79d19f44-4dda-4bc9-b10a-7583970b05e0"
      },
      "execution_count": null,
      "outputs": [
        {
          "output_type": "execute_result",
          "data": {
            "text/plain": [
              "0.25527250510330607"
            ]
          },
          "metadata": {},
          "execution_count": 10
        }
      ]
    },
    {
      "cell_type": "code",
      "source": [
        "tf_idf('latim',1)"
      ],
      "metadata": {
        "colab": {
          "base_uri": "https://localhost:8080/"
        },
        "id": "RaehbFCLLEnw",
        "outputId": "dd832c3b-1102-416c-e793-ef3b5fa30193"
      },
      "execution_count": null,
      "outputs": [
        {
          "output_type": "execute_result",
          "data": {
            "text/plain": [
              "0.05115252244738129"
            ]
          },
          "metadata": {},
          "execution_count": 11
        }
      ]
    },
    {
      "cell_type": "code",
      "source": [
        "def relevantes(doc):\n",
        "  lista_total = [(tf_idf(p,doc),p) for p in set(colecao[doc])]\n",
        "\n",
        "  return sorted(lista_total, reverse=True)[:10]"
      ],
      "metadata": {
        "id": "zaqYpjB1LLXA"
      },
      "execution_count": null,
      "outputs": []
    },
    {
      "cell_type": "code",
      "source": [
        "mr = relevantes(1)"
      ],
      "metadata": {
        "id": "8dXS_nQyLw1Q"
      },
      "execution_count": null,
      "outputs": []
    },
    {
      "cell_type": "code",
      "source": [
        "mr"
      ],
      "metadata": {
        "colab": {
          "base_uri": "https://localhost:8080/"
        },
        "id": "WnmPXgKoLzao",
        "outputId": "a9a48b40-ef75-45fe-ae56-5bd2eb015da8"
      },
      "execution_count": null,
      "outputs": [
        {
          "output_type": "execute_result",
          "data": {
            "text/plain": [
              "[(276.7303277374042, 'guiomar'),\n",
              " (164.12971162356388, 'estevão'),\n",
              " (148.82387047522744, '\\x97'),\n",
              " (94.71581449742484, 'alves'),\n",
              " (87.79031086841789, 'oswald'),\n",
              " (86.83606835897857, 'mrs'),\n",
              " (60.748763781106966, 'jorge'),\n",
              " (43.65159837266534, 'baronesa'),\n",
              " (24.810305245422448, 'inglesa'),\n",
              " (9.144975192854812, 'afilhada')]"
            ]
          },
          "metadata": {},
          "execution_count": 14
        }
      ]
    }
  ]
}