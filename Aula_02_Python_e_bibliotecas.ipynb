{
  "nbformat": 4,
  "nbformat_minor": 0,
  "metadata": {
    "colab": {
      "provenance": [],
      "include_colab_link": true
    },
    "kernelspec": {
      "name": "python3",
      "display_name": "Python 3"
    },
    "language_info": {
      "name": "python"
    }
  },
  "cells": [
    {
      "cell_type": "markdown",
      "metadata": {
        "id": "view-in-github",
        "colab_type": "text"
      },
      "source": [
        "<a href=\"https://colab.research.google.com/github/vinisilvanunes/P1PLN/blob/master/Aula_02_Python_e_bibliotecas.ipynb\" target=\"_parent\"><img src=\"https://colab.research.google.com/assets/colab-badge.svg\" alt=\"Open In Colab\"/></a>"
      ]
    },
    {
      "cell_type": "markdown",
      "source": [
        "# Aula 02 - Python e bibliotécas para PLN"
      ],
      "metadata": {
        "id": "7O8KDMjspwKv"
      }
    },
    {
      "cell_type": "markdown",
      "source": [
        "Conceitos básicos da linguagem Python por meio de exemplos práticos, aprendendo a lidar com manipulação de textos e implementação de soluções de PLN."
      ],
      "metadata": {
        "id": "MPYvu8KS1NE3"
      }
    },
    {
      "cell_type": "markdown",
      "source": [
        "## Exemplo 01 - Sintaxe básica"
      ],
      "metadata": {
        "id": "FiKK1bnmqO7P"
      }
    },
    {
      "cell_type": "markdown",
      "source": [
        "*  Indentação obrigatória como parte da sintaxe.\n",
        "*  Uso de comentários (# Comentário)."
      ],
      "metadata": {
        "id": "SRArsQEC09eo"
      }
    },
    {
      "cell_type": "code",
      "execution_count": null,
      "metadata": {
        "colab": {
          "base_uri": "https://localhost:8080/",
          "height": 88
        },
        "id": "-OoodwVbovSC",
        "outputId": "76b22cc9-f377-463b-fd7e-47b5e2d6165f"
      },
      "outputs": [
        {
          "output_type": "stream",
          "name": "stdout",
          "text": [
            "essa parte roda. \n",
            "essa também. \n"
          ]
        },
        {
          "output_type": "execute_result",
          "data": {
            "text/plain": [
              "'e a mais complexa é usar 3 aspas (simples o dupla)\\npara comentar várias linhas\\nlinhas\\nlinhas\\nlinhas'"
            ],
            "application/vnd.google.colaboratory.intrinsic+json": {
              "type": "string"
            }
          },
          "metadata": {},
          "execution_count": 3
        }
      ],
      "source": [
        "# comentarios podem ser feitas de duas maneiras.\n",
        "print(\"essa parte roda. \")\n",
        "\n",
        "# a maneira mais simples é usar # para comentar auma linha\n",
        "print(\"essa também. \")\n",
        "\n",
        "'''e a mais complexa é usar 3 aspas (simples o dupla)\n",
        "para comentar várias linhas\n",
        "linhas\n",
        "linhas\n",
        "linhas'''\n",
        "# esse tipo de comentário não é suportado no Google Colab"
      ]
    },
    {
      "cell_type": "markdown",
      "source": [
        "## Exemplo 02 - Atribuição e Variáveis\n"
      ],
      "metadata": {
        "id": "LKa53unvrvrB"
      }
    },
    {
      "cell_type": "markdown",
      "source": [
        "*  Tipos primitivos mais comuns: int, float, str, bool.\n",
        "*  Conversão entre tipos:"
      ],
      "metadata": {
        "id": "D-1SMH__1gBX"
      }
    },
    {
      "cell_type": "code",
      "source": [
        "# tudo é tratado como objetos\n",
        "carros = 200\n",
        "\n",
        "espacoNoCarro = 4.0\n",
        "motoristas = 30\n",
        "passageiros = 90\n",
        "carrosSemMotoristas = carros - motoristas\n",
        "carrosComMotoristas = motoristas\n",
        "capacidadeDePassageiros = carrosComMotoristas * espacoNoCarro\n",
        "mediaPassageirosPorCarro = passageiros / carrosComMotoristas\n",
        "\n",
        "print(\"Existem\",carros,\"carros disponíveis.\")\n",
        "print(f\"Existem apenas {motoristas} motoristas disponíveis\")\n",
        "print(\"Nós podemos transportar {} pessoas hoje\".format(capacidadeDePassageiros))\n",
        "print(100/5)"
      ],
      "metadata": {
        "colab": {
          "base_uri": "https://localhost:8080/"
        },
        "id": "o6iKOnaNs8NI",
        "outputId": "01bdfc41-5d51-49b5-9f70-0c4d9ef73637"
      },
      "execution_count": null,
      "outputs": [
        {
          "output_type": "stream",
          "name": "stdout",
          "text": [
            "Existem 200 carros disponíveis.\n",
            "Existem apenas 30 motoristas disponíveis\n",
            "Nós podemos transportar 120.0 pessoas hoje\n",
            "20.0\n"
          ]
        }
      ]
    },
    {
      "cell_type": "markdown",
      "source": [
        "## Exemplo 03 - Entradas e Saidas\n"
      ],
      "metadata": {
        "id": "MXR1mplewgWx"
      }
    },
    {
      "cell_type": "markdown",
      "source": [
        "* Função input().\n",
        "* Exibição com print()."
      ],
      "metadata": {
        "id": "JqQEUs7Y1nze"
      }
    },
    {
      "cell_type": "code",
      "source": [
        "print(\"Quantos anos você tem?\")\n",
        "idade = input()\n",
        "print(f\"O Rodolfo tem {idade} anos.\")\n",
        "\n",
        "altura = input(\"Qual a sua altura:\")\n",
        "\n",
        "print(f\"A altura do professor é {altura}\")\n",
        "print(\"O tipo de dado da idade é \", type(idade))\n",
        "print(\"O tipo de dado da altura é \", type(altura))\n",
        "print(idade + altura)\n",
        "\n",
        "valorIdade = int(idade)\n",
        "print(\"O tipo de dado da valorIdade é \", type(valorIdade))\n",
        "valorAltura = int(altura)\n",
        "print(\"O tipo de dado da valorAltura é \", type (valorAltura))\n",
        "print(valorIdade+valorAltura)\n",
        "\n",
        "peso = int(input(\"Qual é o seu peso: \"))\n",
        "print(\"\\nO tipo de dado de peso é \", type(peso))"
      ],
      "metadata": {
        "colab": {
          "base_uri": "https://localhost:8080/"
        },
        "id": "zC3il9jkwTRe",
        "outputId": "c07ff159-0ef7-4f6a-88be-a3f641deda52"
      },
      "execution_count": null,
      "outputs": [
        {
          "output_type": "stream",
          "name": "stdout",
          "text": [
            "Quantos anos você tem?\n",
            "22\n",
            "O Rodolfo tem 22 anos.\n",
            "Qual a sua altura:162\n",
            "A altura do professor é 162\n",
            "O tipo de dado da idade é  <class 'str'>\n",
            "O tipo de dado da altura é  <class 'str'>\n",
            "22162\n",
            "O tipo de dado da valorIdade é  <class 'int'>\n",
            "O tipo de dado da valorAltura é  <class 'int'>\n",
            "184\n",
            "Qual é o seu peso: 58\n",
            "\n",
            "O tipo de dado de peso é  <class 'int'>\n"
          ]
        }
      ]
    },
    {
      "cell_type": "markdown",
      "source": [
        "## Exemplo 04 - Operadores"
      ],
      "metadata": {
        "id": "3utdmsVGzJlW"
      }
    },
    {
      "cell_type": "markdown",
      "source": [
        "* Operadores aritméticos: +, -, *, /, //, %, **.\n",
        "* Operadores relacionais: ==, !=, >, <, >=, <=.\n",
        "* Operadores lógicos: and, or, not."
      ],
      "metadata": {
        "id": "5y0WB4_J10C2"
      }
    },
    {
      "cell_type": "code",
      "source": [
        "print(\"Contando aves do meu galinheiro.\")\n",
        "print(\"Franguinhos\", 25 + 30 / 6)\n",
        "print(\"Galos\", 100.0 - 25 * 3 % 4)\n",
        "\n",
        "print(\"Agora vou contar os ovos.\")\n",
        "print(3 + 2 + 1 - 5 + 4 % 2 - 1 / 4 + 6)\n",
        "\n",
        "print(\"Este resultado é verdadeiro: 3 + 2 < 5 - 7?\")\n",
        "print(3 + 2 < 5 - 7)\n",
        "print(\"Quanto é 3 + 2?\", 3 + 2)\n",
        "print(\"Quanto é 5 - 7?\", 5 - 7)\n",
        "print(\"O Que é maior?\", 5 > - 2)"
      ],
      "metadata": {
        "colab": {
          "base_uri": "https://localhost:8080/"
        },
        "id": "ifz3L1jszNpd",
        "outputId": "f47f9373-2420-49b5-9970-f274e80dc099"
      },
      "execution_count": null,
      "outputs": [
        {
          "output_type": "stream",
          "name": "stdout",
          "text": [
            "Contando aves do meu galinheiro.\n",
            "Franguinhos 30.0\n",
            "Galos 97.0\n",
            "Agora vou contar os ovos.\n",
            "6.75\n",
            "Este resultado é verdadeiro: 3 + 2 < 5 - 7?\n",
            "False\n",
            "Quanto é 3 + 2? 5\n",
            "Quanto é 5 - 7? -2\n",
            "O Que é maior? True\n"
          ]
        }
      ]
    },
    {
      "cell_type": "markdown",
      "source": [
        "## Exemplo 05 - Estruturas condicionais"
      ],
      "metadata": {
        "id": "qDV7imMS0885"
      }
    },
    {
      "cell_type": "markdown",
      "source": [
        "* if ( condição ):\n",
        "* elif ( condição ):\n",
        "* else:"
      ],
      "metadata": {
        "id": "vVSnhp1O11ue"
      }
    },
    {
      "cell_type": "code",
      "source": [
        "pessoas = 30\n",
        "carros = 40\n",
        "caminhoes = 15\n",
        "motos = 100\n",
        "\n",
        "if (carros > pessoas):\n",
        "  print(\"Nos podemos pegar um carro.\")\n",
        "\n",
        "if (carros < pessoas):\n",
        "  print(\"linha da condição 2 verdadeira 1\")\n",
        "  print(\"linha da condição 2 verdadeira 2\")\n",
        "else:\n",
        "  print(\"linha da condição 2 falsa 1\")\n",
        "\n",
        "if(carros < pessoas):\n",
        "  print(\"linha da condição 1\")\n",
        "elif(carros < caminhoes):\n",
        "  print(\"linha da condição 2\")\n",
        "elif(caminhoes < motos):\n",
        "  print(\"linha da condição 3\")\n",
        "else:\n",
        "  print(\"linha da condição 4\")\n",
        "\n",
        "print(\"Instrução fora do condicional.\")"
      ],
      "metadata": {
        "colab": {
          "base_uri": "https://localhost:8080/"
        },
        "id": "tNgFew8b1K-V",
        "outputId": "d5d3933c-9dd7-4135-ab63-d5ac14c0c7c0"
      },
      "execution_count": null,
      "outputs": [
        {
          "output_type": "stream",
          "name": "stdout",
          "text": [
            "Nos podemos pegar um carro.\n",
            "linha da condição 2 falsa 1\n",
            "linha da condição 3\n",
            "Instrução fora do condicional.\n"
          ]
        }
      ]
    },
    {
      "cell_type": "markdown",
      "source": [
        "## Exemplo 06 - Laços de repetição"
      ],
      "metadata": {
        "id": "HplJTRiHzzEN"
      }
    },
    {
      "cell_type": "markdown",
      "source": [
        "* for [i] in [xxxx]:\n",
        "* while (condição):"
      ],
      "metadata": {
        "id": "MbnMK2zh1_GH"
      }
    },
    {
      "cell_type": "code",
      "source": [
        "i = 0\n",
        "numero = []\n",
        "#vaiável simples - armazena apenas um valor\n",
        "#variáveis composta - armazena vários valores\n",
        "  # lista - mutáveis: [a,b,c,45,[ad]]\n",
        "  # tupla - imutáveis: (a,b,c,45,asd,(asdcfsd))\n",
        "  # conjunto - mutável mas sem repetição {valor1,valor2,valor3,...}\n",
        "\n",
        "while(i<6):\n",
        "  print(f\"Estou indo de 0 até {i}\")\n",
        "  numero.append(i)\n",
        "  i = i + 1\n",
        "  print(f\"o valor da lista é {numero}\")\n",
        "\n",
        "\n",
        "for i in range(0,6):\n",
        "  print(f\"Estou indo de o até {i}\")\n",
        "  numero.append(i)\n",
        "  print(f\"o valor da lista é {numero}\")\n",
        "\n",
        "print(f\"\\n\\n Vamos experimentar o FOR com strings.\")\n",
        "\n",
        "for i in texto:"
      ],
      "metadata": {
        "id": "odqlZ1CX-uwG"
      },
      "execution_count": null,
      "outputs": []
    }
  ]
}