{
  "nbformat": 4,
  "nbformat_minor": 0,
  "metadata": {
    "colab": {
      "provenance": [],
      "include_colab_link": true
    },
    "kernelspec": {
      "name": "python3",
      "display_name": "Python 3"
    },
    "language_info": {
      "name": "python"
    }
  },
  "cells": [
    {
      "cell_type": "markdown",
      "metadata": {
        "id": "view-in-github",
        "colab_type": "text"
      },
      "source": [
        "<a href=\"https://colab.research.google.com/github/vinisilvanunes/P1PLN/blob/master/Aula_04_Extra%C3%A7%C3%A3o_de_caracteristicas_(Features)_em_Texto.ipynb\" target=\"_parent\"><img src=\"https://colab.research.google.com/assets/colab-badge.svg\" alt=\"Open In Colab\"/></a>"
      ]
    },
    {
      "cell_type": "markdown",
      "source": [
        "# Aula 04 - Extração de Características (Features) em Texto"
      ],
      "metadata": {
        "id": "NEvBWbQQTSAA"
      }
    },
    {
      "cell_type": "markdown",
      "source": [
        "1. Parte 1 - Corporas\n",
        "2. Parte 2 - Extração de Características em Texto"
      ],
      "metadata": {
        "id": "uuLheFrllL5Z"
      }
    },
    {
      "cell_type": "markdown",
      "source": [
        "## **Parte 1** - Trabalhando com Corporas"
      ],
      "metadata": {
        "id": "6G0_XPEKlcpn"
      }
    },
    {
      "cell_type": "markdown",
      "source": [
        "Criar uma implementação simples de BoW usando scikit-learn."
      ],
      "metadata": {
        "id": "da2g1LQOnG9m"
      }
    },
    {
      "cell_type": "code",
      "execution_count": null,
      "metadata": {
        "id": "qpioQNU3Rn0p",
        "colab": {
          "base_uri": "https://localhost:8080/"
        },
        "outputId": "f3017616-c049-4a26-fa5d-eacff3be949e"
      },
      "outputs": [
        {
          "output_type": "stream",
          "name": "stdout",
          "text": [
            "Vocabulario: {'gato': 3, 'cachorro': 1, 'brinca': 0, 'com': 2, 'rato': 4}\n",
            "Matriz BoW: \n",
            "[[0 1 0 1 0]\n",
            " [1 1 1 1 0]\n",
            " [0 0 0 1 1]\n",
            " [0 1 0 1 1]\n",
            " [0 0 0 1 0]\n",
            " [0 1 0 0 1]]\n"
          ]
        }
      ],
      "source": [
        "# Importando a ferramenta que irá criar a representação numérica\n",
        "from sklearn.feature_extraction.text import CountVectorizer\n",
        "\n",
        "# Criando um corpus de documentos que será usado para criação do vocabulário\n",
        "documentos = [\n",
        "    \"gato e cachorro\",\n",
        "    \"gato brinca com cachorro\",\n",
        "    \"gato e rato\",\n",
        "    \"Cachorro, gato e rato\",\n",
        "    \"Gato\",\n",
        "    \"Cachorro e rato\"\n",
        "]\n",
        "# Criando um objeto para ser utilizado: transformar os documentos em vetores\n",
        "vectorizer = CountVectorizer()\n",
        "\n",
        "# Criando a matriz de contagem\n",
        "X = vectorizer.fit_transform(documentos)\n",
        "  # fit >>> cria um vocabulário das palavras\n",
        "  # transforme >>> conta a frequencia de cada palavra no corpus\n",
        "\n",
        "# Imprimindo a Matriz e o Vocabulário gerado\n",
        "print(f\"Vocabulario: {vectorizer.vocabulary_}\")\n",
        "  # realiza o mapeamento do vocabulário para um índice da matriz\n",
        "\n",
        "print(f\"Matriz BoW: \\n{X.toarray()}\")\n",
        "  # mostra a frequencia de cada palavra dentro da matriz"
      ]
    },
    {
      "cell_type": "markdown",
      "source": [
        "## Exemplo 2 - Implementando BOW junto com TF-IDF"
      ],
      "metadata": {
        "id": "tu98hQcn3C3w"
      }
    },
    {
      "cell_type": "code",
      "source": [
        "# Importando as Bibliotecas\n",
        "from sklearn.feature_extraction.text import CountVectorizer\n",
        "  # Classe que transforma os documentos em vetores e realiza a contagem de frequencia\n",
        "from sklearn.feature_extraction.text import TfidfVectorizer\n",
        "  # Classe que transforma os documentos em vetores e uma contagem de frequencia ponderada\n",
        "\n",
        "# Definindo o corpus\n",
        "documentos = [\n",
        "    \"O cachorro gosta de passear no parque\",\n",
        "    \"O gato dorme no sofá o dia todo\",\n",
        "    \"Cachorros e gatos podem ser bons amigos\"\n",
        "]\n",
        "\n",
        "# Criando o modelo BoW\n",
        "vectorizer_bow = CountVectorizer()\n",
        "  # Instanciamento da classe em objeto para ser usado\n",
        "X_bow = vectorizer_bow.fit_transform(documentos)\n",
        "  # fit >>> realizar a transformação do vocabulário\n",
        "  # transform >> transforma cada vetor em um documento com a contagem de frequência\n",
        "\n",
        "# Imprimindo o Vocabulário e a Matriz\n",
        "print(f\"Vocabulario BoW: {vectorizer_bow.vocabulary_}\")\n",
        "print(f\"Matriz BoW: \\n{X_bow.toarray()}\")\n",
        "\n",
        "# Criando o modelo TF-IDF\n",
        "vectorizer_tfidf = TfidfVectorizer()\n",
        "  # realiza a instanciação da classe em objeto\n",
        "X_tfidf = vectorizer_tfidf.fit_transform(documentos)\n",
        "  # fit >>> realizar a transformação do vocabulário\n",
        "  # transform >> transforma cada vetor em um documento com a contagem de frequência ponderada\n",
        "\n",
        "# Imprimindo o Vocabulário e a Matriz TF-IDF\n",
        "print(f\"Vocabulario TF-IDF: {vectorizer_tfidf.vocabulary_}\")\n",
        "print(f\"Matriz TF-IDF: \\n{X_tfidf.toarray()}\")"
      ],
      "metadata": {
        "id": "Z3SIyJUP4heG",
        "colab": {
          "base_uri": "https://localhost:8080/"
        },
        "outputId": "39a94cbc-6198-4440-a208-a6c8e81456ca"
      },
      "execution_count": null,
      "outputs": [
        {
          "output_type": "stream",
          "name": "stdout",
          "text": [
            "Vocabulario BoW: {'cachorro': 2, 'gosta': 9, 'de': 4, 'passear': 12, 'no': 10, 'parque': 11, 'gato': 7, 'dorme': 6, 'sofá': 15, 'dia': 5, 'todo': 16, 'cachorros': 3, 'gatos': 8, 'podem': 13, 'ser': 14, 'bons': 1, 'amigos': 0}\n",
            "Matriz BoW: \n",
            "[[0 0 1 0 1 0 0 0 0 1 1 1 1 0 0 0 0]\n",
            " [0 0 0 0 0 1 1 1 0 0 1 0 0 0 0 1 1]\n",
            " [1 1 0 1 0 0 0 0 1 0 0 0 0 1 1 0 0]]\n",
            "Vocabulario TF-IDF: {'cachorro': 2, 'gosta': 9, 'de': 4, 'passear': 12, 'no': 10, 'parque': 11, 'gato': 7, 'dorme': 6, 'sofá': 15, 'dia': 5, 'todo': 16, 'cachorros': 3, 'gatos': 8, 'podem': 13, 'ser': 14, 'bons': 1, 'amigos': 0}\n",
            "Matriz TF-IDF: \n",
            "[[0.         0.         0.42339448 0.         0.42339448 0.\n",
            "  0.         0.         0.         0.42339448 0.32200242 0.42339448\n",
            "  0.42339448 0.         0.         0.         0.        ]\n",
            " [0.         0.         0.         0.         0.         0.42339448\n",
            "  0.42339448 0.42339448 0.         0.         0.32200242 0.\n",
            "  0.         0.         0.         0.42339448 0.42339448]\n",
            " [0.40824829 0.40824829 0.         0.40824829 0.         0.\n",
            "  0.         0.         0.40824829 0.         0.         0.\n",
            "  0.         0.40824829 0.40824829 0.         0.        ]]\n"
          ]
        }
      ]
    },
    {
      "cell_type": "markdown",
      "source": [
        "## Exemplo 3 - WordEmbedding utilizando Word2Vex"
      ],
      "metadata": {
        "id": "qyOT6ht_RoeT"
      }
    },
    {
      "cell_type": "code",
      "source": [
        "# Importação da Biblioteca\n",
        "from gensim import models\n",
        "  # Word2Vec >>> criar os modelos de vetorização\n",
        "\n",
        "# Criação do Corpus\n",
        "corpus = [\n",
        "    [\"o\", \"cachorro\",\"está\",\"dormindo\"],\n",
        "    [\"o\",\"gato\",\"está\",\"dormindo\"]\n",
        "]\n",
        "\n",
        "# Criando o modelo de vetor\n",
        "model = models.Word2Vec(sentences=corpus, vector_size=100, window=5, min_count=1, sg=1)\n",
        "  # sentences = define o texto a ser transformado em vetor\n",
        "  # vector_size = define a dimensão dos vetores que representarão as palavras\n",
        "  # window = define a janela de contexto. considera as palavras antes e as palavras depois no alvo para aprender\n",
        "  # min_count = ignora as palavras que aparecer 1 vez no corpus\n",
        "  # indica o modelo utilizado\n",
        "    # 1 = skip_gram;\n",
        "    # 0 = CBOW\n",
        "\n",
        "# obtem o vetor da palavra\n",
        "vector = model.wv['cachorro']\n",
        "\n",
        "# calcula a similaridade de duas palavras\n",
        "similarity = model.wv.similarity('cachorro','gato')\n",
        "  # similaridade cosseno, qt mais próximo de 1, maior similaridade\n",
        "\n",
        "print(\"Similaridade entre 'cachorro' e 'gato': \", similarity)"
      ],
      "metadata": {
        "id": "noQzNrmOQwGd",
        "colab": {
          "base_uri": "https://localhost:8080/"
        },
        "outputId": "6524e5b3-2d7e-4ec0-bbd2-29d5c5e46f8b"
      },
      "execution_count": null,
      "outputs": [
        {
          "output_type": "stream",
          "name": "stdout",
          "text": [
            "Similaridade entre 'cachorro' e 'gato':  -0.0446171\n"
          ]
        }
      ]
    },
    {
      "cell_type": "code",
      "source": [
        "from gensim.models import Word2Vec\n",
        "\n",
        "corpus = [\n",
        "    [\"o\", \"cachorro\", \"está\", \"latindo\", \"no\", \"quintal\"],\n",
        "    [\"o\", \"gato\", \"está\", \"miando\", \"no\", \"telhado\"],\n",
        "    [\"o\", \"pássaro\", \"está\", \"voando\", \"no\", \"céu\", 'lua'],\n",
        "    [\"a\", \"bola\", \"está\", \"rolando\", \"no\", \"chão\"],\n",
        "    [\"a\", \"criança\", \"está\", \"brincando\", \"com\", \"o\", \"cachorro\"],\n",
        "    [\"o\", \"gato\", \"e\", \"o\", \"rato\", \"são\", \"inimigos\"],\n",
        "    [\"a\", \"água\", \"está\", \"quente\", \"na\", \"caneca\"],\n",
        "    [\"o\", \"sol\", \"está\", \"brilhando\", \"no\", \"céu\"],\n",
        "    [\"a\", \"lua\", \"está\", \"cheia\", \"hoje\", 'no', 'céu'],\n",
        "    [\"a\", \"computador\", \"está\", \"ligado\", \"na\", \"mesa\"],\n",
        "    ['a','lua','está', 'no', 'céu', 'lua', 'bonita']\n",
        "]\n",
        "\n",
        "model = Word2Vec(sentences=corpus, vector_size=100, window=5, min_count=1, sg=1)\n",
        "\n",
        "# Calculando a similaridade entre palavras\n",
        "print(f\"Similaridade entre cachorro e gato: {model.wv.similarity('cachorro','gato')}\")\n",
        "print(f\"Similaridade entre cachorro e bola: {model.wv.similarity('cachorro','bola')}\")\n",
        "print(f\"Similaridade entre céu e lua: {model.wv.similarity('céu','lua')}\")\n",
        "print(f\"Similaridade entre computador e mesa: {model.wv.similarity('computador','mesa')}\")"
      ],
      "metadata": {
        "colab": {
          "base_uri": "https://localhost:8080/"
        },
        "id": "rT0KCLaf3nho",
        "outputId": "72d9680e-ab64-42fc-8a79-06d7e18808f6"
      },
      "execution_count": null,
      "outputs": [
        {
          "output_type": "stream",
          "name": "stdout",
          "text": [
            "Similaridade entre cachorro e gato: 0.008797231130301952\n",
            "Similaridade entre cachorro e bola: -0.12085192650556564\n",
            "Similaridade entre céu e lua: 0.1388162225484848\n",
            "Similaridade entre computador e mesa: 0.04975401982665062\n"
          ]
        }
      ]
    }
  ]
}