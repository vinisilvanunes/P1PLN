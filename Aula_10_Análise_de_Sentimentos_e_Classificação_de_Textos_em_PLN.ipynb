{
  "nbformat": 4,
  "nbformat_minor": 0,
  "metadata": {
    "colab": {
      "provenance": [],
      "collapsed_sections": [
        "-EWFm36Viaba",
        "qyhc4OCZjJur"
      ],
      "include_colab_link": true
    },
    "kernelspec": {
      "name": "python3",
      "display_name": "Python 3"
    },
    "language_info": {
      "name": "python"
    }
  },
  "cells": [
    {
      "cell_type": "markdown",
      "metadata": {
        "id": "view-in-github",
        "colab_type": "text"
      },
      "source": [
        "<a href=\"https://colab.research.google.com/github/vinisilvanunes/P1PLN/blob/master/Aula_10_An%C3%A1lise_de_Sentimentos_e_Classifica%C3%A7%C3%A3o_de_Textos_em_PLN.ipynb\" target=\"_parent\"><img src=\"https://colab.research.google.com/assets/colab-badge.svg\" alt=\"Open In Colab\"/></a>"
      ]
    },
    {
      "cell_type": "markdown",
      "source": [
        "# Análise de Sentimentos e Classificação de Textos em PLN"
      ],
      "metadata": {
        "id": "7on7HWBxfenM"
      }
    },
    {
      "cell_type": "markdown",
      "source": [
        "## Exemplos do roteiro"
      ],
      "metadata": {
        "id": "lITs34cFfpvj"
      }
    },
    {
      "cell_type": "markdown",
      "source": [
        "### Exemplo 1 Análise de sentimentos com a biblioteca NLTK"
      ],
      "metadata": {
        "id": "TKzT5YHkhOG6"
      }
    },
    {
      "cell_type": "markdown",
      "source": [
        "Desenvolvendo de um sistema para classificar automaticamente o sentimento de avaliações de filmes como \"positivo\" ou \"negativo\". Para isso é necessário ter um conjunto de dados com as avaliações rotuladas."
      ],
      "metadata": {
        "id": "0Fyu39vuhVAL"
      }
    },
    {
      "cell_type": "markdown",
      "source": [
        "#### •\tPrimeira etapa – Importação das bibliotecas e corpus para realizar a analise"
      ],
      "metadata": {
        "id": "-EWFm36Viaba"
      }
    },
    {
      "cell_type": "code",
      "execution_count": 1,
      "metadata": {
        "id": "cP4aIXMXe4hv",
        "colab": {
          "base_uri": "https://localhost:8080/"
        },
        "outputId": "5bbe2a1c-fc84-4d8c-d696-807759fc497e"
      },
      "outputs": [
        {
          "output_type": "stream",
          "name": "stderr",
          "text": [
            "[nltk_data] Downloading package vader_lexicon to /root/nltk_data...\n",
            "[nltk_data] Downloading package punkt to /root/nltk_data...\n",
            "[nltk_data]   Unzipping tokenizers/punkt.zip.\n"
          ]
        },
        {
          "output_type": "execute_result",
          "data": {
            "text/plain": [
              "True"
            ]
          },
          "metadata": {},
          "execution_count": 1
        }
      ],
      "source": [
        "# Importando as bibliotecas\n",
        "import nltk\n",
        "from nltk.sentiment.vader import SentimentIntensityAnalyzer\n",
        "\n",
        "# Certifique-se de baixar os recursos necessários do NLTK\n",
        "nltk.download('vader_lexicon')\n",
        "nltk.download('punkt')"
      ]
    },
    {
      "cell_type": "markdown",
      "source": [
        "#### •\tSegunda etapa – Inicialização do objeto que realiza a analise e o texto a ser analisado"
      ],
      "metadata": {
        "id": "qyhc4OCZjJur"
      }
    },
    {
      "cell_type": "code",
      "source": [
        "# Inicializando o analisador de sentimentos\n",
        "sid = SentimentIntensityAnalyzer()\n",
        "\n",
        "# Definindo texto de exemplo para treinar o modelo\n",
        "textos = [\n",
        "    \"Este filme é incrível! Eu adorei cada minuto.\",\n",
        "    \"Odiei este filme. Foi uma perda de tempo.\",\n",
        "    \"O filme foi ok, nada de especial.\",\n",
        "    \"Estou muito feliz com o produto, funciona perfeitamente!\",\n",
        "    \"Que serviço horrível! Nunca mais compro nessa loja.\"\n",
        "    ]"
      ],
      "metadata": {
        "id": "p-iWAm_HjZjb"
      },
      "execution_count": 2,
      "outputs": []
    },
    {
      "cell_type": "markdown",
      "source": [
        "#### •  Terceira etapa – Analisando os sentimentos dos textos fornecidos"
      ],
      "metadata": {
        "id": "zW03sOgnm_iy"
      }
    },
    {
      "cell_type": "code",
      "source": [
        "# Analisando os sentimentos dos textos\n",
        "\n",
        "for texto in textos:\n",
        "  print(f\"Texto: {texto}\")\n",
        "  ss = sid.polarity_scores(texto)\n",
        "  print(f\"Pontuação: {ss}\")\n",
        "  if ss['compound'] >= 0.05:\n",
        "    print(\"Sentimento: Positivo\")\n",
        "  elif ss['compound'] <= -0.05:\n",
        "    print(\"Sentimento: Negativo\")\n",
        "  else:\n",
        "    print(\"Sentimento: Neutro\")\n",
        "  print(\"\\n\")"
      ],
      "metadata": {
        "id": "bYtl83Y6nF4q",
        "colab": {
          "base_uri": "https://localhost:8080/"
        },
        "outputId": "b3a04f64-4f49-4a4c-f70f-368eb8efdaf2"
      },
      "execution_count": 3,
      "outputs": [
        {
          "output_type": "stream",
          "name": "stdout",
          "text": [
            "Texto: Este filme é incrível! Eu adorei cada minuto.\n",
            "Pontuação: {'neg': 0.0, 'neu': 1.0, 'pos': 0.0, 'compound': 0.0}\n",
            "Sentimento: Neutro\n",
            "\n",
            "\n",
            "Texto: Odiei este filme. Foi uma perda de tempo.\n",
            "Pontuação: {'neg': 0.0, 'neu': 1.0, 'pos': 0.0, 'compound': 0.0}\n",
            "Sentimento: Neutro\n",
            "\n",
            "\n",
            "Texto: O filme foi ok, nada de especial.\n",
            "Pontuação: {'neg': 0.0, 'neu': 0.694, 'pos': 0.306, 'compound': 0.296}\n",
            "Sentimento: Positivo\n",
            "\n",
            "\n",
            "Texto: Estou muito feliz com o produto, funciona perfeitamente!\n",
            "Pontuação: {'neg': 0.0, 'neu': 1.0, 'pos': 0.0, 'compound': 0.0}\n",
            "Sentimento: Neutro\n",
            "\n",
            "\n",
            "Texto: Que serviço horrível! Nunca mais compro nessa loja.\n",
            "Pontuação: {'neg': 0.0, 'neu': 1.0, 'pos': 0.0, 'compound': 0.0}\n",
            "Sentimento: Neutro\n",
            "\n",
            "\n"
          ]
        }
      ]
    },
    {
      "cell_type": "markdown",
      "source": [
        "### Exemplo 2 Análise de sentimentos de Avaliações de Filmes com Naives Bayes"
      ],
      "metadata": {
        "id": "basYrfcfwOts"
      }
    },
    {
      "cell_type": "markdown",
      "source": [
        "#### • Primeira etapa – Criação de funções que calculam a quantidade de palavras, e as probabilidades"
      ],
      "metadata": {
        "id": "yQDNEDa-E_is"
      }
    },
    {
      "cell_type": "code",
      "source": [
        "import numpy as np\n",
        "\n",
        "def contar_palavras(avaliacoes, sentimentos):\n",
        "  \"\"\"Conta a frequência de cada palavra em avaliações de um dado sentimento\"\"\"\n",
        "  contagem = {}\n",
        "  for avaliacao, sent in avaliacoes:\n",
        "    if sent == sentimentos:\n",
        "      for palavra in avaliacao.lower().split():\n",
        "        if palavra in contagem:\n",
        "          contagem[palavra] += 1\n",
        "        else:\n",
        "          contagem[palavra] = 1\n",
        "  return contagem\n",
        "\n",
        "def calcular_probabilidade_sentimento(avaliacoes, sentimentos):\n",
        "  \"\"\"Calcula a probabilidade de uma sentimento em um conjunto de avaliações\"\"\"\n",
        "  total_avaliacoes = len(avaliacoes)\n",
        "  contagem_sentimento = sum(1 for _, sent in avaliacoes if sent == sentimentos)\n",
        "  return contagem_sentimento / total_avaliacoes\n",
        "\n",
        "def calcular_probabilidade_palavra_dado_sentimento(palavra, contagem_palavras, total_palavras_sentimento, total_palavras_vocabulario, alpha=1):\n",
        "  \"\"\"Calcula a probabilidade de uma palavra aparecer dado um sentimento(com suavização Laplace)\"\"\"\n",
        "  contagem_palavra = contagem_palavras.get(palavra, 0)\n",
        "  return (contagem_palavra + alpha) / (total_palavras_sentimento + alpha * total_palavras_vocabulario)"
      ],
      "metadata": {
        "id": "cnixvoMpA21F"
      },
      "execution_count": 4,
      "outputs": []
    },
    {
      "cell_type": "markdown",
      "source": [
        "#### •\tSegunda etapa – Criação da função que calcula a classificação da palavra pertencer a um sentimento"
      ],
      "metadata": {
        "id": "nzb_ljsIFifb"
      }
    },
    {
      "cell_type": "code",
      "source": [
        "def classificar_avaliacao(avaliacao, avaliacoes):\n",
        "  \"\"\"Classifica o sentimento de uma nova avaliação usando  Naive Bayes.\"\"\"\n",
        "\n",
        "  sentimentos = [\"Positivo\", \"Negativo\"]\n",
        "  probabilidades_sentimento= {}\n",
        "\n",
        "  # Calcular probabilidades a priori dos sentimentos\n",
        "  probabilidades_sentimento[\"Positivo\"] = calcular_probabilidade_sentimento(avaliacoes, \"Positivo\")\n",
        "  probabilidades_sentimento[\"Negativo\"] = calcular_probabilidade_sentimento(avaliacoes, \"Negativo\")\n",
        "\n",
        "  # Calcular palavras em cada sentimentos\n",
        "  contagem_palavras_positivo = contar_palavras(avaliacoes, \"Positivo\")\n",
        "  contagem_palavras_negativo = contar_palavras(avaliacoes, \"Negativo\")\n",
        "\n",
        "  # Calcular total de palavras em cada sentimentos\n",
        "  total_palavras_positivo = sum(contagem_palavras_positivo.values())\n",
        "  total_palavras_negativo = sum(contagem_palavras_negativo.values())\n",
        "\n",
        "  # Calcular tamanho do vocabulário\n",
        "  vocabulario = set()\n",
        "  for avaliacao, _ in avaliacoes:\n",
        "    for palavra in avaliacao.lower().split():\n",
        "      vocabulario.add(palavra)\n",
        "  total_palavras_vocabulario = len(vocabulario)\n",
        "\n",
        "  # Calcular probabilidades para cada sentimento\n",
        "  for sentimento in sentimentos:\n",
        "    probabilidade_total = probabilidades_sentimento[sentimento]\n",
        "    contagem_palavras_sentimento = contagem_palavras_positivo if sentimento == \"Positivo\" else contagem_palavras_negativo\n",
        "    total_palavras_sentimento = total_palavras_positivo if sentimento == \"Positivo\" else total_palavras_negativo\n",
        "\n",
        "    for palavra in avaliacao.lower().split():\n",
        "      probabilidade_palavra = calcular_probabilidade_palavra_dado_sentimento(\n",
        "          palavra, contagem_palavras_sentimento, total_palavras_sentimento, total_palavras_vocabulario\n",
        "      )\n",
        "      probabilidade_total *= probabilidade_palavra\n",
        "    probabilidades_sentimento[sentimento] = probabilidade_total\n",
        "\n",
        "  # Classificar com base na maior probabilidade\n",
        "  melhor_sentimento = max(probabilidades_sentimento, key=probabilidades_sentimento.get)\n",
        "  return melhor_sentimento"
      ],
      "metadata": {
        "id": "TpC_2hyJF1mU"
      },
      "execution_count": 9,
      "outputs": []
    },
    {
      "cell_type": "markdown",
      "source": [
        "#### •\tTerceira Etapa – Fornecimento de um modelo para treinamento"
      ],
      "metadata": {
        "id": "kwLvNLa4OfIa"
      }
    },
    {
      "cell_type": "code",
      "source": [
        "# Esta parte você pode copiar e colar\n",
        "\n",
        "avaliacoes = [\n",
        "    (\"Filme incrível! Adorei a atuação.\", \"Positivo\"),\n",
        "    (\"Roteiro fraco, não recomendo.\", \"Negativo\"),\n",
        "    (\"Atuação boa, mas filme longo.\", \"Positivo\"),\n",
        "    (\"Péssimo! Perdi meu tempo.\", \"Negativo\"),\n",
        "]"
      ],
      "metadata": {
        "id": "yoBvhpfIOn2J"
      },
      "execution_count": 10,
      "outputs": []
    },
    {
      "cell_type": "markdown",
      "source": [
        "#### •\tQuarta etapa – Fornecendo um frase para ser avaliada"
      ],
      "metadata": {
        "id": "rYFVfkqTQSpB"
      }
    },
    {
      "cell_type": "code",
      "source": [
        "# Nova avaliação a ser classificada\n",
        "nova_avaliacao = input(\"O que você achou do filme 101 Dalmatas?\")\n",
        "\n",
        "# Classificar a nova avaliação\n",
        "sentimento = classificar_avaliacao(nova_avaliacao, avaliacoes)\n",
        "print(f\"A avaliação '{nova_avaliacao}' foi classificada como: {sentimento}\")"
      ],
      "metadata": {
        "id": "N38-yTqTQe2g",
        "colab": {
          "base_uri": "https://localhost:8080/"
        },
        "outputId": "d7208687-b9be-42f5-af12-b41cbdb6b5bf"
      },
      "execution_count": 17,
      "outputs": [
        {
          "output_type": "stream",
          "name": "stdout",
          "text": [
            "O que você achou do filme 101 Dalmatas?insalubre\n",
            "A avaliação 'insalubre' foi classificada como: Positivo\n"
          ]
        }
      ]
    },
    {
      "cell_type": "markdown",
      "source": [
        "#### •\tQuinta etapa – Treine com um novo modelo de dados"
      ],
      "metadata": {
        "id": "5zg-sKG1RcsY"
      }
    },
    {
      "cell_type": "code",
      "source": [
        "# Esta parte você pode copiar e colar\n",
        "\n",
        "avaliacoes = [\n",
        "    (\"Filme incrível! Adorei a atuação, roteiro e direção.\", \"Positivo\"),\n",
        "    (\"Roteiro fraco, atuação ruim, não recomendo. Perda de tempo.\", \"Negativo\"),\n",
        "    (\"Atuação boa, mas filme um pouco longo e arrastado.\", \"Positivo\"),\n",
        "    (\"Péssimo! Perdi meu tempo, dinheiro e paciência. Horrível.\", \"Negativo\"),\n",
        "    (\"Amei! Elenco maravilhoso, fotografia impecável. Recomendo muito!\", \"Positivo\"),\n",
        "    (\"Chato, previsível e sem graça. Saí no meio do filme.\", \"Negativo\"),\n",
        "    (\"Uma  obra-prima! Roteiro inteligente, atuações memoráveis.\", \"Positivo\"),\n",
        "    (\"Cansativo, atuações forçadas, final decepcionante.\", \"Negativo\"),\n",
        "    (\"Divertido e emocionante! Ótimo para assistir com a família.\", \"Positivo\"),\n",
        "    (\"Clichê, sem originalidade, diálogos fracos. Não vale a pena.\", \"Negativo\"),\n",
        "    (\"Surpreendente e envolvente! Me prendeu do início ao fim.\", \"Positivo\"),\n",
        "    (\"Confuso, mal dirigido, edição amadora. Um desastre.\", \"Negativo\"),\n",
        "    (\"Atuação excelente, história cativante, trilha sonora perfeita.\", \"Positivo\"),\n",
        "    (\"Atuações medianas, história arrastada, trilha sonora irritante.\", \"Negativo\"),\n",
        "    (\"Roteiro bem construído, diálogos afiados, direção impecável.\", \"Positivo\"),\n",
        "    (\"Roteiro fraco, diálogos bobos, direção perdida.\", \"Negativo\"),\n",
        "    (\"Uma experiência cinematográfica única! Recomendo a todos os amantes do cinema.\", \"Positivo\"),\n",
        "    (\"Um filme esquecível, sem emoção e sem impacto.\", \"Negativo\"),\n",
        "    (\"Comovente e inspirador! Me fez refletir sobre a vida.\", \"Positivo\"),\n",
        "    (\"Decepcionante e frustrante! Não recomendo nem para passar o tempo.\", \"Negativo\"),\n",
        "    (\"Ótimo, gostei muito\", \"Positivo\")\n",
        "]"
      ],
      "metadata": {
        "id": "gDTAuiDORiUQ"
      },
      "execution_count": 14,
      "outputs": []
    },
    {
      "cell_type": "markdown",
      "source": [
        "## Desafio do Roteiro"
      ],
      "metadata": {
        "id": "q05WXHT1goGC"
      }
    }
  ]
}